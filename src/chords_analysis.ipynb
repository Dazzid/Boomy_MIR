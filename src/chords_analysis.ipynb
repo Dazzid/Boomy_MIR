{
 "cells": [
  {
   "cell_type": "code",
   "execution_count": 1,
   "metadata": {},
   "outputs": [],
   "source": [
    "# import libraries\n",
    "import librosa\n",
    "import numpy as np\n",
    "import musicnn\n",
    "from musicnn.extractor import extractor\n",
    "import matplotlib.pyplot as plt\n",
    "import tqdm as tqdm"
   ]
  },
  {
   "cell_type": "code",
   "execution_count": 58,
   "metadata": {},
   "outputs": [],
   "source": [
    " # Create templates for major, minor, and no-chord qualities\n",
    "maj_template = np.array([1,0,0, 0,1,0, 0,1,0, 0,0,0])\n",
    "min_template = np.array([1,0,0, 1,0,0, 0,1,0, 0,0,0])\n",
    "N_template   = np.array([1,1,1, 1,1,1, 1,1,1, 1,1,1.]) / 4.\n",
    "    \n",
    "labels = ['C', 'C#', 'D', 'D#', 'E', 'F',\n",
    "            'F#', 'G', 'G#', 'A', 'A#', 'B',\n",
    "            'Cm', 'C#m', 'Dm', 'D#m', 'Em', 'Fm',\n",
    "            'F#m', 'Gm', 'G#m', 'Am', 'A#m', 'Bm',\n",
    "            'N']"
   ]
  },
  {
   "cell_type": "code",
   "execution_count": 3,
   "metadata": {},
   "outputs": [],
   "source": [
    "import os\n",
    "\n",
    "def getTriadSequence(dir_path):\n",
    "    # folder path\n",
    "    \n",
    "    # list to store files\n",
    "    tracks = []\n",
    "\n",
    "    # Iterate directory\n",
    "    for path in os.listdir(dir_path):\n",
    "        # check if current path is a file\n",
    "        if os.path.isfile(os.path.join(dir_path, path)):\n",
    "            tracks.append(path)\n",
    "\n",
    "    for t in tracks:\n",
    "        if t == '.DS_Store':\n",
    "            tracks.remove(t)\n",
    "            \n",
    "    tracks.sort()\n",
    "    print('Total # of files:',  len(tracks))\n",
    "    \n",
    "    # Generate the weighting matrix that maps chroma to labels\n",
    "    weights = np.zeros((25, 12), dtype=float)\n",
    "    \n",
    "    for c in range(12):\n",
    "        weights[c, :] = np.roll(maj_template, c) # c:maj\n",
    "        weights[c + 12, :] = np.roll(min_template, c)  # c:min\n",
    "    weights[-1] = N_template  # the last row is the no-chord class\n",
    "    # Make a self-loop transition matrix over 25 states\n",
    "    trans = librosa.sequence.transition_loop(25, 0.99) \n",
    "    \n",
    "    #get the triads for each song\n",
    "    all_chords_RollingStones = []\n",
    "\n",
    "    for t in tracks:\n",
    "        song = dir_path + '/' + t\n",
    "        print('processing song: ', t)\n",
    "        y, sr = librosa.load(song)\n",
    "        # Suppress percussive elements\n",
    "        y = librosa.effects.harmonic(y, margin=4)\n",
    "        chroma = librosa.feature.chroma_cqt(y=y, sr=sr)\n",
    "        # Map chroma (observations) to class (state) likelihoods\n",
    "        probs = np.exp(weights.dot(chroma))  # P[class | chroma] ~= exp(template' chroma)\n",
    "        probs /= probs.sum(axis=0, keepdims=True)  # probabilities must sum to 1 in each column\n",
    "        # Compute independent frame-wise estimates\n",
    "        #chords_ind = np.argmax(probs, axis=0)\n",
    "        # And viterbi estimates\n",
    "        chords_vit = librosa.sequence.viterbi_discriminative(probs, trans)\n",
    "        all_chords_RollingStones.append(chords_vit)\n",
    "    \n",
    "    return all_chords_RollingStones, tracks"
   ]
  },
  {
   "cell_type": "code",
   "execution_count": 4,
   "metadata": {},
   "outputs": [
    {
     "name": "stdout",
     "output_type": "stream",
     "text": [
      "Total # of files: 500\n",
      "processing song:  01 - Bob Dylan - Like A Rolling Stone.mp3\n",
      "processing song:  02 - Rolling Stones - (I Can't Get No) Satisfaction.mp3\n"
     ]
    },
    {
     "name": "stderr",
     "output_type": "stream",
     "text": [
      "[src/libmpg123/layer3.c:INT123_do_layer3():1841] error: dequantization failed!\n"
     ]
    },
    {
     "name": "stdout",
     "output_type": "stream",
     "text": [
      "processing song:  03 - John Lennon - Imagine.mp3\n",
      "processing song:  04 - Marvin Gaye - Whats Going On.mp3\n",
      "processing song:  05 - Aretha Franklin - Respect.mp3\n",
      "processing song:  06 - The Beach Boys - Good Vibrations.mp3\n",
      "processing song:  07 - Chuck Berry - Johnny B. Goode.mp3\n",
      "processing song:  08 - The Beatles - Hey Jude.mp3\n",
      "processing song:  09 - Nirvana - Smells Like Teen Spirit.mp3\n",
      "processing song:  10 - Ray Charles - What'd I Say Parts I & Ii.mp3\n",
      "processing song:  100 - The Rolling Stones - You Can't Always Get What You Want.mp3\n",
      "processing song:  101 - The Jimi Hendrix Experience - Voodoo Child (Slight Return).mp3\n",
      "processing song:  102 - Gene Vincent - Be Bop A Lula.mp3\n",
      "processing song:  103 - Donna Summer - Hot Stuff.mp3\n",
      "processing song:  104 - Stevie Wonder - Living For The City.mp3\n",
      "processing song:  105 - Simon & Garfunkel - The Boxer.mp3\n",
      "processing song:  106 - Bob Dylan - Mr. Tambourine Man.mp3\n",
      "processing song:  107 - Buddy Holly And The Crickets - Not Fade Away.mp3\n",
      "processing song:  108 - Prince - Little Red Corvette.mp3\n"
     ]
    },
    {
     "name": "stderr",
     "output_type": "stream",
     "text": [
      "/var/folders/k2/flh0b7xj6mv_tf6gpxphqm9m0000gn/T/ipykernel_44068/2558872899.py:38: UserWarning: PySoundFile failed. Trying audioread instead.\n",
      "  y, sr = librosa.load(song)\n",
      "/Users/david/miniforge3/envs/myenv/lib/python3.10/site-packages/librosa/core/audio.py:184: FutureWarning: librosa.core.audio.__audioread_load\n",
      "\tDeprecated as of librosa version 0.10.0.\n",
      "\tIt will be removed in librosa version 1.0.\n",
      "  y, sr_native = __audioread_load(path, offset, duration, dtype)\n"
     ]
    },
    {
     "name": "stdout",
     "output_type": "stream",
     "text": [
      "processing song:  109 - Van Morrison - Brown Eyed Girl.mp3\n",
      "processing song:  11 - The Who - My Generation.mp3\n",
      "processing song:  110 - Otis Redding - I've Been Loving You Too Long.mp3\n",
      "processing song:  111 - Hank Williams - I'm So Lonesome I Could Cry.mp3\n",
      "processing song:  112 - Elvis Presley - That's All Right.mp3\n",
      "processing song:  113 - The Drifters - Up On The Roof.mp3\n",
      "processing song:  114 - The Crystals - Da Doo Ron Ron (When He Walked Me Home).mp3\n",
      "processing song:  115 - Sam Cooke - You Send Me.mp3\n",
      "processing song:  116 - The Rolling Stones - Honky Tonk Woman.mp3\n",
      "processing song:  117 - Al Green - Take Me To The River.mp3\n",
      "processing song:  118 - Isley Brothers - Shout (Parts 1 And 2).mp3\n",
      "processing song:  119 - Fleetwood Mac - Go Your Own Way.mp3\n",
      "processing song:  12 - Sam Cooke - A Change Is Gonna Come.mp3\n",
      "processing song:  120 - The Jackson 5 - I Want You Back.mp3\n",
      "processing song:  121 - Ben E. King - Stand By Me.mp3\n",
      "processing song:  122 - The Animals - House Of The Rising Sun.mp3\n",
      "processing song:  123 - James Brown - It's A Man's, Man's, Man's World.mp3\n",
      "processing song:  124 - The Rolling Stones - Jumping Jack Flash.mp3\n",
      "processing song:  125 - The Shirelles - Will You Love Me Tomorrow.mp3\n",
      "processing song:  126 - Big Joe Turner - Shake, Rattle & Roll.mp3\n"
     ]
    },
    {
     "name": "stderr",
     "output_type": "stream",
     "text": [
      "Note: Illegal Audio-MPEG-Header 0x4c595249 at offset 4372544.\n",
      "Note: Trying to resync...\n",
      "Note: Hit end of (available) data during resync.\n"
     ]
    },
    {
     "name": "stdout",
     "output_type": "stream",
     "text": [
      "processing song:  127 - David Bowie - Changes.mp3\n",
      "processing song:  128 - Chuck Berry - Rock And Roll Music.mp3\n",
      "processing song:  129 - Steppenwolf - Born To Be Wild.mp3\n",
      "processing song:  13 - The Beatles - Yesterday.mp3\n",
      "processing song:  130 - Rod Stewart - Maggie May.mp3\n",
      "processing song:  131 - U2 - With Or Without You.mp3\n",
      "processing song:  132 - Bo Diddley - Who Do You Love.mp3\n",
      "processing song:  133 - The Who - Wont Get Fooled Again.mp3\n",
      "processing song:  134 - Wilson Pickett - In The Midnight Hour.mp3\n",
      "processing song:  135 - The Beatles - While My Guitar Gently Weeps.mp3\n",
      "processing song:  136 - Elton John - Your Song.mp3\n",
      "processing song:  137 - The Beatles - Eleanor Rigby.mp3\n",
      "processing song:  138 - Sly & The Family Stone - Family Affair.mp3\n",
      "processing song:  139 - The Beatles - I Saw Her Standing There.mp3\n",
      "processing song:  14 - Bob Dylan - Blowin' In The Wind.mp3\n",
      "processing song:  140 - Led Zeppelin - Kashmir.mp3\n",
      "processing song:  141 - The Everly Brothers - All I Have To Do Is Dream.mp3\n"
     ]
    },
    {
     "name": "stderr",
     "output_type": "stream",
     "text": [
      "Note: Illegal Audio-MPEG-Header 0x4c595249 at offset 3561358.\n",
      "Note: Trying to resync...\n",
      "Note: Hit end of (available) data during resync.\n"
     ]
    },
    {
     "name": "stdout",
     "output_type": "stream",
     "text": [
      "processing song:  142 - James Brown - Please Please Please.mp3\n",
      "processing song:  143 - Prince - Purple Rain.mp3\n",
      "processing song:  144 - The Ramones - I Wanna Be Sedated.mp3\n",
      "processing song:  145 - Sly & The Family Stone - Everyday People.mp3\n",
      "processing song:  146 - The B-52's - Rock Lobster.mp3\n",
      "processing song:  147 - Iggy Pop - Lust For Life.mp3\n",
      "processing song:  148 - Janis Joplin - Me And Bobby Mcgee.mp3\n",
      "processing song:  149 - The Everly Brothers - Cathy's Clown.mp3\n"
     ]
    },
    {
     "name": "stderr",
     "output_type": "stream",
     "text": [
      "Note: Illegal Audio-MPEG-Header 0x20202020 at offset 3601707.\n",
      "Note: Trying to resync...\n",
      "Note: Skipped 1024 bytes in input.\n",
      "[src/libmpg123/parse.c:wetwork():1365] error: Giving up resync after 1024 bytes - your stream is not nice... (maybe increasing resync limit could help).\n"
     ]
    },
    {
     "name": "stdout",
     "output_type": "stream",
     "text": [
      "processing song:  15 - Clash - London Calling.mp3\n",
      "processing song:  150 - The Byrds - Eight Miles High.mp3\n",
      "processing song:  151 - The Penguins - Earth Angel.mp3\n"
     ]
    },
    {
     "name": "stderr",
     "output_type": "stream",
     "text": [
      "Note: Illegal Audio-MPEG-Header 0x0000000c at offset 4377509.\n",
      "Note: Trying to resync...\n",
      "Note: Hit end of (available) data during resync.\n"
     ]
    },
    {
     "name": "stdout",
     "output_type": "stream",
     "text": [
      "processing song:  152 - Jimi Hendrix - Foxey Lady.mp3\n",
      "processing song:  153 - The Beatles - A Hard Days Night.mp3\n",
      "processing song:  154 - Buddy Holly - Rave On.mp3\n",
      "processing song:  155 - Creedence Clearwater Revival - Proud Mary.mp3\n",
      "processing song:  156 - Simon & Garfunkel - The Sounds Of Silence.mp3\n",
      "processing song:  157 - The Flamingos - I Only Have Eyes For You.mp3\n",
      "processing song:  158 - Bill Haley And His Comets - Rock Around The Clock.mp3\n",
      "processing song:  159 - The Velvet Underground - I'm Waiting For The Man.mp3\n",
      "processing song:  16 - The Beatles - I Want To Hold Your Hand.mp3\n",
      "processing song:  160 - Public Enemy - Bring The Noise.mp3\n"
     ]
    },
    {
     "name": "stderr",
     "output_type": "stream",
     "text": [
      "Note: Illegal Audio-MPEG-Header 0x00000000 at offset 5440824.\n",
      "Note: Trying to resync...\n",
      "Note: Hit end of (available) data during resync.\n"
     ]
    },
    {
     "name": "stdout",
     "output_type": "stream",
     "text": [
      "processing song:  161 - Ray Charles - I Can't Stop Loving You.mp3\n",
      "processing song:  162 - Sinead O'connor - Nothing Compares 2 U.mp3\n",
      "processing song:  163 - Queen - Bohemian Rhapsody.mp3\n",
      "processing song:  164 - Johnny Cash - Folsom Prison Blues.mp3\n"
     ]
    },
    {
     "name": "stderr",
     "output_type": "stream",
     "text": [
      "Note: Illegal Audio-MPEG-Header 0x4c595249 at offset 4050285.\n",
      "Note: Trying to resync...\n",
      "Note: Hit end of (available) data during resync.\n"
     ]
    },
    {
     "name": "stdout",
     "output_type": "stream",
     "text": [
      "processing song:  165 - Tracy Chapman - Fast Car.mp3\n",
      "processing song:  166 - Eminem - Lose Yourself.mp3\n",
      "processing song:  167 - Marvin Gaye - Lets Get It On.mp3\n",
      "processing song:  168 - The Temptations - Papa Was A Rollin' Stone.mp3\n",
      "processing song:  169 - R.E.M. - Losing My Religion.mp3\n",
      "processing song:  17 - Jimi Hendrix - Purple Haze.mp3\n",
      "processing song:  170 - Joni Mitchell - Both Sides Now.mp3\n",
      "processing song:  171 - Abba - Dancing Queen.mp3\n",
      "processing song:  172 - Aerosmith - Dream On.mp3\n"
     ]
    },
    {
     "name": "stderr",
     "output_type": "stream",
     "text": [
      "Note: Illegal Audio-MPEG-Header 0x204f6e00 at offset 6439545.\n",
      "Note: Trying to resync...\n",
      "Note: Hit end of (available) data during resync.\n"
     ]
    },
    {
     "name": "stdout",
     "output_type": "stream",
     "text": [
      "processing song:  173 - The Sex Pistols - God Save The Queen.mp3\n",
      "processing song:  174 - The Rolling Stones - Paint It Black.mp3\n",
      "processing song:  175 - Bobby Fuller Four - I Fought The Law.mp3\n",
      "processing song:  176 - The Beach Boys - Don't Worry Baby.mp3\n",
      "processing song:  177 - Tom Petty - Free Fallin'.mp3\n",
      "processing song:  178 - Big Star - September Gurls.mp3\n",
      "processing song:  179 - Joy Division - Love Will Tear Us Apart.mp3\n",
      "processing song:  18 - Chuck Berry - Maybellene.mp3\n",
      "processing song:  180 - OutKast - Hey Ya.mp3\n",
      "processing song:  181 - Booker T. & The M.G.S - Green Onions.mp3\n",
      "processing song:  182 - The Drifters - Save The Last Dance For Me.mp3\n"
     ]
    },
    {
     "name": "stderr",
     "output_type": "stream",
     "text": [
      "Note: Illegal Audio-MPEG-Header 0x4c595249 at offset 4445687.\n",
      "Note: Trying to resync...\n",
      "Note: Hit end of (available) data during resync.\n"
     ]
    },
    {
     "name": "stdout",
     "output_type": "stream",
     "text": [
      "processing song:  183 - B.B. King - The Thrill Is Gone.mp3\n",
      "processing song:  184 - The Beatles - Please Please Me.mp3\n",
      "processing song:  185 - Bob Dylan - Desolation Row.mp3\n",
      "processing song:  186 - Aretha Franklin - I Never Loved A Man (The Way I Love You).mp3\n",
      "processing song:  187 - Ac Dc - Back In Black.mp3\n",
      "processing song:  188 - Creedence Clearwater Revival - Who'll Stop The Rain.mp3\n",
      "processing song:  189 - The Bee Gees - Stayin Alive.mp3\n",
      "processing song:  19 - Elvis Presley - Hound Dog.mp3\n",
      "processing song:  190 - Bob Dylan - Knockin On Heavens Door.mp3\n",
      "processing song:  191 - Lynyrd Skynyrd - Free Bird.mp3\n",
      "processing song:  192 - Glen Campbell - Wichita Lineman.mp3\n",
      "processing song:  193 - The Drifters - There Goes My Baby.mp3\n"
     ]
    },
    {
     "name": "stderr",
     "output_type": "stream",
     "text": [
      "Note: Illegal Audio-MPEG-Header 0x00000000 at offset 4309465.\n",
      "Note: Trying to resync...\n",
      "Note: Hit end of (available) data during resync.\n"
     ]
    },
    {
     "name": "stdout",
     "output_type": "stream",
     "text": [
      "processing song:  194 - Buddy Holly - Peggy Sue.mp3\n",
      "processing song:  195 - The Chantels - Maybe.mp3\n",
      "processing song:  196 - Guns N' Roses - Sweet Child O' Mine.mp3\n",
      "processing song:  197 - Elvis Presley - Don't Be Cruel.mp3\n",
      "processing song:  198 - The Jimi Hendrix Experience - Hey Joe.mp3\n",
      "processing song:  199 - Parliament - Flash Light.mp3\n",
      "processing song:  20 - The Beatles - Let It Be.mp3\n",
      "processing song:  200 - Beck - Loser.mp3\n",
      "processing song:  201 - New Order - Bizarre Love Triangle.mp3\n",
      "processing song:  202 - The Beatles - Come Together.mp3\n",
      "processing song:  203 - Bob Dylan - Positively 4Th Street.mp3\n",
      "processing song:  204 - Otis Redding - Try A Little Tenderness.mp3\n",
      "processing song:  205 - Bill Withers - Lean On Me.mp3\n",
      "processing song:  206 - The Four Tops - Reach Out I'll Be There.mp3\n",
      "processing song:  207 - The Everly Brothers - Bye Bye Love.mp3\n",
      "processing song:  208 - Them - Gloria.mp3\n",
      "processing song:  209 - The Beach Boys - In My Room.mp3\n",
      "processing song:  21 - Bruce Springsteen - Born To Run.mp3\n",
      "processing song:  210 - Question Mark & The Mysterians - 96 Tears.mp3\n",
      "processing song:  211 - The Beach Boys - Caroline, No.mp3\n",
      "processing song:  212 - Prince - 1999.mp3\n",
      "processing song:  213 - Hank Williams - Your Cheatin' Heart.mp3\n",
      "processing song:  214 - Neil Young - Rockin' In The Free World.mp3\n",
      "processing song:  215 - The Chords - Sh-Boom.mp3\n",
      "processing song:  216 - The Lovin' Spoonful - Belive In Magic.mp3\n",
      "processing song:  217 - Dolly Parton - Jolene.mp3\n",
      "processing song:  218 - John Lee Hooker - Boom Boom.mp3\n",
      "processing song:  219 - Howlin' Wolf - Spoonful.mp3\n",
      "processing song:  22 - The Ronettes - Be My Baby.mp3\n",
      "processing song:  220 - Left Banke - Walk Away Renee.mp3\n",
      "processing song:  221 - Lou Reed - Walk On The Wild Side.mp3\n",
      "processing song:  222 - Roy Orbison - Oh Pretty Woman.mp3\n",
      "processing song:  223 - Sly & The Family Stone - Dance To The Music.mp3\n",
      "processing song:  224 - Chic - Good Times.mp3\n",
      "processing song:  225 - Muddy Waters - Hoochie Coochie Man.mp3\n",
      "processing song:  226 - Van Morrison - Moondance.mp3\n"
     ]
    },
    {
     "name": "stderr",
     "output_type": "stream",
     "text": [
      "[src/libmpg123/layer3.c:INT123_do_layer3():1841] error: dequantization failed!\n"
     ]
    },
    {
     "name": "stdout",
     "output_type": "stream",
     "text": [
      "processing song:  227 - James Taylor - Fire And Rain.mp3\n",
      "processing song:  228 - The Clash - Should I Stay Or Should I Go.mp3\n",
      "processing song:  229 - Muddy Waters - Mannish Boy.mp3\n",
      "processing song:  23 - The Beatles - In My Life.mp3\n",
      "processing song:  230 - Bob Dylan - Just Like A Woman.mp3\n",
      "processing song:  231 - Marvin Gaye - Sexual Healing.mp3\n",
      "processing song:  232 - Roy Orbison - Only The Lonely.mp3\n",
      "processing song:  233 - The Animals - We Gotta Get Out Of This Place.mp3\n",
      "processing song:  234 - The Byrds - I'll Feel A Whole Lot Better.mp3\n",
      "processing song:  235 - Ray Charles - I Got A Woman.mp3\n",
      "processing song:  236 - Buddy Holly And The Crickets - Everyday.mp3\n",
      "processing song:  237 - Afrika Bambaataa & The Soul Sonic Force - Planet Rock.mp3\n",
      "processing song:  238 - Patsy Cline - I Fall To Pieces.mp3\n",
      "processing song:  239 - Dion - The Wanderer.mp3\n",
      "processing song:  24 - The Impressions - People Get Ready.mp3\n",
      "processing song:  240 - Dusty Springfield - Son Of A Preacher Man.mp3\n",
      "processing song:  241 - Sly & The Family Stone - Stand!.mp3\n",
      "processing song:  242 - Elton John - Rocket Man.mp3\n",
      "processing song:  243 - The B-52S - Love Shack.mp3\n",
      "processing song:  244 - The Spencer Davis Group - Gimme Some Lovin'.mp3\n",
      "processing song:  245 - The Band - The Night They Drove Old Dixie Down.mp3\n",
      "processing song:  246 - Jackie Wilson - (Your Love Keeps Lifting Me) Higher And Higher.mp3\n"
     ]
    },
    {
     "name": "stderr",
     "output_type": "stream",
     "text": [
      "Note: Illegal Audio-MPEG-Header 0x00000000 at offset 5749057.\n",
      "Note: Trying to resync...\n",
      "Note: Hit end of (available) data during resync.\n"
     ]
    },
    {
     "name": "stdout",
     "output_type": "stream",
     "text": [
      "processing song:  247 - Sly & The Family Stone - Hot Fun In The Summertime.mp3\n",
      "processing song:  248 - The Sugar Hill Gang - Rapper's Delight.mp3\n",
      "processing song:  249 - Aretha Franklin - Chain Of Fools.mp3\n",
      "processing song:  25 - The Beach Boys - God Only Knows.mp3\n",
      "processing song:  250 - Black Sabbath - Paranoid.mp3\n",
      "processing song:  251 - Bobby Darin - Mack The Knife.mp3\n",
      "processing song:  252 - The Drifters - Money Honey.mp3\n",
      "processing song:  253 - Mott The Hoople - All The Young Dudes.mp3\n",
      "processing song:  254 - Ac Dc - Highway To Hell.mp3\n",
      "processing song:  255 - Blondie - Heart Of Glass.mp3\n",
      "processing song:  256 - Radiohead - Paranoid Android.mp3\n",
      "processing song:  257 - The Troggs - Wild Thing.mp3\n",
      "processing song:  258 - The Who - I Can See For Miles.mp3\n",
      "processing song:  259 - Jeff Buckley - Hallelujah.mp3\n",
      "processing song:  26 - The Beatles - A Day In The Life.mp3\n",
      "processing song:  260 - The Dells - Oh What A Night.mp3\n",
      "processing song:  261 - Stevie Wonder - Higher Ground.mp3\n",
      "processing song:  262 - Smokey Robinson - Ooo Baby Baby.mp3\n",
      "processing song:  263 - The Crystals - He's A Rebel.mp3\n"
     ]
    },
    {
     "name": "stderr",
     "output_type": "stream",
     "text": [
      "Note: Illegal Audio-MPEG-Header 0x4c595249 at offset 3157549.\n",
      "Note: Trying to resync...\n",
      "Note: Hit end of (available) data during resync.\n"
     ]
    },
    {
     "name": "stdout",
     "output_type": "stream",
     "text": [
      "processing song:  264 - Randy Newman - Sail Away.mp3\n",
      "processing song:  265 - Archie Bell & The Drells - Tighten Up.mp3\n",
      "processing song:  266 - The Ronettes - Walking In The Rain.mp3\n",
      "processing song:  267 - New York Dolls - Personality Crisis.mp3\n",
      "processing song:  268 - U2 - Sunday Bloody Sunday.mp3\n",
      "processing song:  269 - The Modern Lovers - Roadrunner.mp3\n",
      "processing song:  27 - Derek And The Dominos - Layla.mp3\n"
     ]
    },
    {
     "name": "stderr",
     "output_type": "stream",
     "text": [
      "Note: Illegal Audio-MPEG-Header 0x00001b0c at offset 13679638.\n",
      "Note: Trying to resync...\n",
      "Note: Hit end of (available) data during resync.\n"
     ]
    },
    {
     "name": "stdout",
     "output_type": "stream",
     "text": [
      "processing song:  270 - George Jones - He Stopped Loving Her Today.mp3\n",
      "processing song:  271 - The Beach Boys - Sloop John B.mp3\n",
      "processing song:  272 - Chuck Berry - Sweet Little Sixteen.mp3\n",
      "processing song:  273 - The Beatles - Something.mp3\n",
      "processing song:  274 - Jefferson Airplane - Somebody To Love.mp3\n",
      "processing song:  275 - Bruce Springsteen - Born In The U.S.A.mp3\n",
      "processing song:  276 - The Staple Singers - I'll Take You There.mp3\n",
      "processing song:  277 - David Bowie - Ziggy Stardust.mp3\n",
      "processing song:  278 - The Cure - Pictures Of You.mp3\n",
      "processing song:  279 - The Dixie Cups - Chapel Of Love.mp3\n",
      "processing song:  28 - Otis Redding - (Sittin' On) The Dock Of The Bay.mp3\n",
      "processing song:  280 - Bill Withers - Ain't No Sunshine.mp3\n",
      "processing song:  281 - Stevie Wonder - You Are The Sunshine Of My Life.mp3\n",
      "processing song:  282 - Joni Mitchell - Help Me.mp3\n"
     ]
    },
    {
     "name": "stderr",
     "output_type": "stream",
     "text": [
      "[src/libmpg123/layer3.c:INT123_do_layer3():1841] error: dequantization failed!\n"
     ]
    },
    {
     "name": "stdout",
     "output_type": "stream",
     "text": [
      "processing song:  283 - Blondie - Call Me.mp3\n",
      "processing song:  284 - Elvis Costello - (What's So Funny About) Peace, Love And Understanding.mp3\n",
      "processing song:  285 - Howlin' Wolf - Smokestack Lightnin'.mp3\n",
      "processing song:  286 - Pavement - Summer Babe (Winter Version).mp3\n",
      "processing song:  287 - Run Dmc - Walk This Way.mp3\n",
      "processing song:  288 - Barrett Strong - Money (That's What I Want).mp3\n",
      "processing song:  289 - The Beatles - Can't Buy Me Love.mp3\n",
      "processing song:  29 - The Beatles - Help.mp3\n",
      "processing song:  290 - Eminem - Stan.mp3\n",
      "processing song:  291 - The Zombies - She's Not There.mp3\n",
      "processing song:  292 - The Clash - Train In Vain.mp3\n",
      "processing song:  293 - Al Green - Tired Of Being Alone.mp3\n",
      "processing song:  294 - Led Zeppelin - Black Dog.mp3\n",
      "processing song:  295 - The Rolling Stones - Street Fighting Man.mp3\n",
      "processing song:  296 - Bob Marley - Get Up Stand Up.mp3\n",
      "processing song:  297 - Neil Young - Heart Of Gold.mp3\n",
      "processing song:  298 - Blondie - One Way Or Another.mp3\n",
      "processing song:  299 - Prince - Sign 'o' The Times.mp3\n",
      "processing song:  30 - Johnny Cash - I Walk The Line.mp3\n"
     ]
    },
    {
     "name": "stderr",
     "output_type": "stream",
     "text": [
      "Note: Illegal Audio-MPEG-Header 0x4c595249 at offset 4063421.\n",
      "Note: Trying to resync...\n",
      "Note: Hit end of (available) data during resync.\n"
     ]
    },
    {
     "name": "stdout",
     "output_type": "stream",
     "text": [
      "processing song:  300 - Madonna - Like A Prayer.mp3\n",
      "processing song:  301 - Rod Stewart - Da Ya Think I'm Sexy.mp3\n",
      "processing song:  302 - Willie Nelson - Blue Eyes Crying In The Rain.mp3\n",
      "processing song:  303 - The Rolling Stones - Ruby Tuesday.mp3\n",
      "processing song:  304 - The Beatles - With A Little Help From My Friends.mp3\n",
      "processing song:  305 - James Brown - Say It Loud (I'm Black And I'm Proud).mp3\n",
      "processing song:  306 - The Jam - That's Entertainment.mp3\n"
     ]
    },
    {
     "name": "stderr",
     "output_type": "stream",
     "text": [
      "Note: Illegal Audio-MPEG-Header 0x00000000 at offset 6393636.\n",
      "Note: Trying to resync...\n",
      "Note: Hit end of (available) data during resync.\n"
     ]
    },
    {
     "name": "stdout",
     "output_type": "stream",
     "text": [
      "processing song:  307 - Frankie Lymon & The Teenagers - Why Do Fools Fall In Love.mp3\n",
      "processing song:  308 - Jackie Wilson - Lonely Teardrops.mp3\n",
      "processing song:  309 - Tina Turner - What's Love Got To Do With It.mp3\n",
      "processing song:  31 - Led Zeppelin - Stairway To Heaven.mp3\n",
      "processing song:  310 - Black Sabbath - Iron Man.mp3\n",
      "processing song:  311 - The Everly Brothers - Wake Up Little Susie.mp3\n",
      "processing song:  312 - Roy Orbison - In Dreams.mp3\n",
      "processing song:  313 - Screamin' Jay Hawkins - I Put A Spell On You.mp3\n",
      "processing song:  314 - Pink Floyd - Comfortably Numb.mp3\n",
      "processing song:  315 - The Animals - Don't Let Me Be Misunderstood.mp3\n",
      "processing song:  316 - Pink Floyd - Wish You Were Here.mp3\n",
      "processing song:  317 - Jimmy Cliff - Many Rivers To Cross.mp3\n",
      "processing song:  318 - Elvis Costello - Alison.mp3\n",
      "processing song:  319 - Alice Cooper - School's Out.mp3\n",
      "processing song:  32 - Rolling Stones - Sympathy For The Devil.mp3\n",
      "processing song:  320 - Led Zeppelin - Heartbreaker.mp3\n",
      "processing song:  321 - Neil Young - Cortez The Killer.mp3\n",
      "processing song:  322 - Public Enemy - Fight The Power.mp3\n"
     ]
    },
    {
     "name": "stderr",
     "output_type": "stream",
     "text": [
      "Note: Illegal Audio-MPEG-Header 0x00000000 at offset 5493514.\n",
      "Note: Trying to resync...\n",
      "Note: Hit end of (available) data during resync.\n"
     ]
    },
    {
     "name": "stdout",
     "output_type": "stream",
     "text": [
      "processing song:  323 - Patti Smith - Dancing Barefoot.mp3\n",
      "processing song:  324 - The Supremes - Baby Love.mp3\n",
      "processing song:  325 - The Young Rascals - Good Lovin'.mp3\n",
      "processing song:  326 - James Brown - Get Up (I Feel Like Being A) Sex Machine.mp3\n",
      "processing song:  327 - Jerry Butler - For Your Precious Love.mp3\n",
      "processing song:  328 - The Doors - The End.mp3\n",
      "processing song:  329 - Earth Wind & Fire - That's The Way Of The World.mp3\n",
      "processing song:  33 - Ike And Tina Turner - River Deep Mountain High.mp3\n",
      "processing song:  330 - Queen - We Will Rock You.mp3\n",
      "processing song:  331 - Bonnie Raitt - I Cant Make You Love Me.mp3\n",
      "processing song:  332 - Bob Dylan - Subterranean Homesick Blues.mp3\n",
      "processing song:  333 - Norman Greenbaum - Spirit In The Sky.mp3\n",
      "processing song:  334 - The Rolling Stones - Wild Horses.mp3\n",
      "processing song:  335 - The Velvet Underground - Sweet Jane.mp3\n",
      "processing song:  336 - Aerosmith - Walk This Way.mp3\n",
      "processing song:  337 - Michael Jackson - Beat It.mp3\n",
      "processing song:  337 - Ray Charles - Hit The Road Jack.mp3\n",
      "processing song:  338 - Paul Mccartney - Maybe I'm Amazed.mp3\n"
     ]
    },
    {
     "name": "stderr",
     "output_type": "stream",
     "text": [
      "Note: Illegal Audio-MPEG-Header 0x00000000 at offset 7597712.\n",
      "Note: Trying to resync...\n",
      "Note: Hit end of (available) data during resync.\n"
     ]
    },
    {
     "name": "stdout",
     "output_type": "stream",
     "text": [
      "processing song:  339 - The Supremes - You Keep Me Hangin' On.mp3\n",
      "processing song:  34 - Righteous Brothers - You've Lost That Lovin' Feelin'.mp3\n",
      "processing song:  340 - The Who - Baba O'riley.mp3\n",
      "processing song:  341 - Jimmy Cliff - The Harder They Come.mp3\n",
      "processing song:  342 - Dion - Runaround Sue.mp3\n",
      "processing song:  343 - Lavern Baker - Jim Dandy.mp3\n",
      "processing song:  344 - Big Brother & The Holding Company - Piece Of My Heart.mp3\n",
      "processing song:  345 - Ritchie Valens - La Bamba.mp3\n",
      "processing song:  346 - Tupac Shakur - California Love.mp3\n"
     ]
    },
    {
     "name": "stderr",
     "output_type": "stream",
     "text": [
      "Note: Illegal Audio-MPEG-Header 0x4c595249 at offset 5893481.\n",
      "Note: Trying to resync...\n",
      "Note: Hit end of (available) data during resync.\n"
     ]
    },
    {
     "name": "stdout",
     "output_type": "stream",
     "text": [
      "processing song:  347 - Elton John - Candle In The Wind.mp3\n",
      "processing song:  348 - The Isley Brothers - That Lady.mp3\n",
      "processing song:  349 - Ben E. King - Spanish Harlem.mp3\n",
      "processing song:  35 - The Doors - Light My Fire.mp3\n",
      "processing song:  350 - Little Eva - The Loco Motion.mp3\n",
      "processing song:  351 - The Platters - The Great Pretender.mp3\n",
      "processing song:  352 - Elvis Presley - All Shook Up.mp3\n",
      "processing song:  353 - Eric Clapton - Tears In Heaven.mp3\n",
      "processing song:  354 - Elvis Costello - Watching The Detectives.mp3\n",
      "processing song:  355 - Creedence Clearwater Revival - Bad Moon Rising.mp3\n",
      "processing song:  356 - Eurythmics - Sweet Dreams (Are Made Of This).mp3\n",
      "processing song:  357 - Jimi Hendrix - Little Wing.mp3\n",
      "processing song:  358 - Martha Reeves And The Vandellas - Nowhere To Run.mp3\n",
      "processing song:  359 - Muddy Waters - Got My Mojo Working.mp3\n",
      "processing song:  36 - U2 - One.mp3\n",
      "processing song:  360 - Roberta Flack - Killing Me Softly With His Song.mp3\n",
      "processing song:  361 - The Clash - Complete Control.mp3\n",
      "processing song:  362 - The Beatles - All You Need Is Love.mp3\n",
      "processing song:  363 - The Box Tops - The Letter.mp3\n",
      "processing song:  364 - Bob Dylan - Highway 61 Revisited.mp3\n",
      "processing song:  365 - The Righteous Brothers - Unchained Melody.mp3\n",
      "processing song:  366 - The Bee Gees - How Deep Is Your Love.mp3\n",
      "processing song:  367 - Cream - White Room.mp3\n",
      "processing song:  368 - Depeche Mode - Personal Jesus.mp3\n",
      "processing song:  369 - Bo Diddley - I'm A Man.mp3\n",
      "processing song:  37 - Bob Marley - No Woman No Cry.mp3\n",
      "processing song:  370 - Jimi Hendrix - The Wind Cries Mary.mp3\n",
      "processing song:  371 - The Who - I Can't Explain.mp3\n",
      "processing song:  372 - Television - Marquee Moon.mp3\n",
      "processing song:  373 - Sam Cooke - Wonderful World.mp3\n",
      "processing song:  374 - Chuck Berry - Brown Eyed Handsome Man.mp3\n",
      "processing song:  375 - Pink Floyd - Another Brick In The Wall Part 2.mp3\n",
      "processing song:  376 - Radiohead - Fake Plastic Trees.mp3\n"
     ]
    },
    {
     "name": "stderr",
     "output_type": "stream",
     "text": [
      "Note: Illegal Audio-MPEG-Header 0x4c595249 at offset 7046003.\n",
      "Note: Trying to resync...\n",
      "Note: Hit end of (available) data during resync.\n"
     ]
    },
    {
     "name": "stdout",
     "output_type": "stream",
     "text": [
      "processing song:  378 - U2 - Pride (In The Name Of Love).mp3\n",
      "processing song:  379 - R.E.M. - Radio Free Europe.mp3\n",
      "processing song:  38 - The Rolling Stones - Gimme Shelter.mp3\n",
      "processing song:  380 - Elton John - Goodbye Yellow Brick Road.mp3\n",
      "processing song:  381 - Aaron Neville - Tell It Like It Is.mp3\n",
      "processing song:  382 - The Verve - Bittersweet Symphony.mp3\n",
      "processing song:  383 - The Allman Brothers Band - Whipping Post.mp3\n",
      "processing song:  384 - The Beatles - Ticket To Ride.mp3\n",
      "processing song:  385 - Crosby Stills Nash And Young - Ohio.mp3\n",
      "processing song:  386 - Eric B And Rakim - I Know You Got Soul.mp3\n",
      "processing song:  387 - Elton John - Tiny Dancer.mp3\n",
      "processing song:  388 - The Police - Roxanne.mp3\n",
      "processing song:  389 - The Temptations - Just My Imagination.mp3\n",
      "processing song:  39 - Buddy Holly And The Crickets - That'll Be The Day.mp3\n",
      "processing song:  390 - The Four Tops - Baby I Need Your Loving.mp3\n",
      "processing song:  391 - Band Of Gold - Freda Payne.mp3\n",
      "processing song:  392 - The Five Stairsteps - O-O-H Child.mp3\n",
      "processing song:  393 - The Lovin' Spoonful - Summer In The City.mp3\n",
      "processing song:  394 - Elvis Presley - Can't Help Falling In Love.mp3\n",
      "processing song:  395 - The Shangri-Las - Remember (Walkin' In The Sand).mp3\n",
      "processing song:  396 - Big Star - Thirteen.mp3\n",
      "processing song:  397 - Blue Oyster Cult - (Dont Fear) The Reaper.mp3\n",
      "processing song:  398 - Lynyrd Skynyrd - Sweet Home Alabama.mp3\n",
      "processing song:  399 - Metallica - Enter Sandman.mp3\n",
      "processing song:  40 - Martha Reeves And The Vandellas - Dancing In The Streets.mp3\n",
      "processing song:  400 - Paul Revere & The Raiders - Kicks.mp3\n",
      "processing song:  401 - The Shirelles - Tonight's The Night.mp3\n",
      "processing song:  402 - Sly & The Family Stone - Thank You (Falettinme Be Mice Elf Again).mp3\n",
      "processing song:  403 - Eddie Cochran - Cmon Everybody.mp3\n",
      "processing song:  404 - Bob Dylan - Visions Of Johanna.mp3\n",
      "processing song:  405 - Carpenters - We've Only Just Begun.mp3\n",
      "processing song:  406 - R Kelly - I Believe I Can Fly.mp3\n",
      "processing song:  407 - Nirvana - In Bloom.mp3\n",
      "processing song:  408 - Aerosmith - Sweet Emotion.mp3\n",
      "processing song:  409 - Cream - Crossroads.mp3\n",
      "processing song:  41 - The Band - The Weight.mp3\n",
      "processing song:  410 - The Pixies - Monkey Gone To Heaven.mp3\n",
      "processing song:  411 - Donna Summer - I Feel Love.mp3\n",
      "processing song:  412 - Bobbie Gentry - Ode To Billy Joe.mp3\n",
      "processing song:  413 - Little Richard - The Girl Can't Help It.mp3\n",
      "processing song:  414 - The Coasters - Young Blood.mp3\n",
      "processing song:  415 - The Four Tops - I Can't Help Myself.mp3\n",
      "processing song:  416 - Don Henley - The Boys Of Summer.mp3\n",
      "processing song:  417 - N.W.A. - Fuck The Police.mp3\n",
      "processing song:  418 - Crosby Stills And Nash - Suite Judy Blue Eyes.mp3\n",
      "processing song:  419 - Dr. Dre - Nuthin' But A G Thang.mp3\n",
      "processing song:  42 - The Kinks - Waterloo Sunset.mp3\n",
      "processing song:  420 - The Isley Brothers - It's Your Thing.mp3\n",
      "processing song:  421 - Billy Joel - Piano Man.mp3\n"
     ]
    },
    {
     "name": "stderr",
     "output_type": "stream",
     "text": [
      "[src/libmpg123/layer3.c:INT123_do_layer3():1773] error: part2_3_length (1562) too large for available bit count (960)\n"
     ]
    },
    {
     "name": "stdout",
     "output_type": "stream",
     "text": [
      "processing song:  422 - The Kinks - Lola.mp3\n",
      "processing song:  423 - Elvis Presley - Blue Suede Shoes.mp3\n"
     ]
    },
    {
     "name": "stderr",
     "output_type": "stream",
     "text": [
      "Note: Illegal Audio-MPEG-Header 0x65790000 at offset 4931230.\n",
      "Note: Trying to resync...\n",
      "Note: Hit end of (available) data during resync.\n"
     ]
    },
    {
     "name": "stdout",
     "output_type": "stream",
     "text": [
      "processing song:  424 - The Rolling Stones - Tumbling Dice.mp3\n",
      "processing song:  425 - The Smiths - William, It Was Really Nothing.mp3\n",
      "processing song:  426 - Deep Purple - Smoke On The Water.mp3\n",
      "processing song:  427 - U2 - New Year's Day.mp3\n",
      "processing song:  428 - Mitch Ryder & The Detroit Wheels - Devil With A Blue Dress On, Good Golly Miss Molly.mp3\n",
      "processing song:  429 - Solomon Burke - Everybody Needs Somebody To Love.mp3\n",
      "processing song:  43 - Little Richard - Tutti Frutti.mp3\n",
      "processing song:  430 - The Clash - White Man In Hammersmith Palais.mp3\n",
      "processing song:  431 - Fats Domino - Ain't That A Shame.mp3\n",
      "processing song:  432 - Gladys Knight And The Pips - Midnight Train To Georgia.mp3\n",
      "processing song:  433 - Led Zeppelin - Ramble On.mp3\n",
      "processing song:  434 - Wilson Pickett - Mustang Sally.mp3\n"
     ]
    },
    {
     "name": "stderr",
     "output_type": "stream",
     "text": [
      "Note: Illegal Audio-MPEG-Header 0x0000000b at offset 6108760.\n",
      "Note: Trying to resync...\n",
      "Note: Hit end of (available) data during resync.\n"
     ]
    },
    {
     "name": "stdout",
     "output_type": "stream",
     "text": [
      "processing song:  435 - The Rolling Stones - Beast Of Burden.mp3\n",
      "processing song:  436 - Love - Alone Again Or.mp3\n",
      "processing song:  437 - Elvis Presley - Love Me Tender.mp3\n",
      "processing song:  438 - The Stooges - I Wanna Be Your Dog.mp3\n",
      "processing song:  439 - John Mellencamp - Pink Houses.mp3\n",
      "processing song:  44 - Ray Charles - Georgia On My Mind.mp3\n",
      "processing song:  440 - Salt-N-Pepa - Push It.mp3\n",
      "processing song:  441 - The Dell-Vikings - Come Go With Me.mp3\n",
      "processing song:  442 - Little Richard - Keep A Knockin'.mp3\n",
      "processing song:  443 - Bob Marley - I Shot The Sheriff.mp3\n",
      "processing song:  444 - Sonny & Cher - I Got You Babe.mp3\n",
      "processing song:  445 - Nirvana - Come As You Are.mp3\n",
      "processing song:  446 - Toots And The Maytals - Pressure Drop.mp3\n",
      "processing song:  447 - The Shangri-Las - Leader Of The Pack.mp3\n",
      "processing song:  448 - The Velvet Underground - Heroin.mp3\n",
      "processing song:  449 - The Beatles - Penny Lane.mp3\n",
      "processing song:  45 - Elvis Presley - Heartbreak Hotel.mp3\n",
      "processing song:  450 - Glen Campbell - By The Time I Get To Phoenix.mp3\n",
      "processing song:  451 - Chubby Checker - The Twist.mp3\n",
      "processing song:  452 - Sam Cooke - Cupid.mp3\n",
      "processing song:  453 - Guns N' Roses - Paradise City.mp3\n",
      "processing song:  454 - George Harrison - My Sweet Lord.mp3\n",
      "processing song:  455 - Nirvana - All Apologies.mp3\n",
      "processing song:  456 - Lloyd Price - Stagger Lee.mp3\n",
      "processing song:  457 - The Ramones - Sheena Is A Punk Rocker.mp3\n",
      "processing song:  458 - Sam & Dave - Soul Man.mp3\n",
      "processing song:  459 - Muddy Waters - Rollin' Stone.mp3\n",
      "processing song:  46 - David Bowie - Heroes.mp3\n",
      "processing song:  460 - The Chiffons - One Fine Day.mp3\n",
      "processing song:  461 - Prince - Kiss.mp3\n",
      "processing song:  462 - The Staple Singers - Respect Yourself.mp3\n",
      "processing song:  463 - The Beatles - Rain.mp3\n",
      "processing song:  464 - The Four Tops - Standing In The Shadows Of Love.mp3\n",
      "processing song:  465 - Cheap Trick - Surrender.mp3\n",
      "processing song:  466 - Del Shannon - Runaway.mp3\n",
      "processing song:  467 - Guns N' Roses - Welcome To The Jungle.mp3\n",
      "processing song:  468 - The Stooges - Search And Destroy.mp3\n",
      "processing song:  469 - Carole King - It's Too Late.mp3\n",
      "processing song:  47 - Simon & Garfunkel - Bridge Over Troubled Water.mp3\n",
      "processing song:  470 - Joni Mitchell - Free Man In Paris.mp3\n",
      "processing song:  471 - Willie Nelson - On The Road Again.mp3\n",
      "processing song:  472 - The Supremes - Where Did Our Love Go.mp3\n",
      "processing song:  473 - Aretha Franklin - Do Right Woman, Do Right Man.mp3\n",
      "processing song:  474 - Funkadelic - One Nation Under A Groove.mp3\n",
      "processing song:  475 - Beastie Boys - Sabotage.mp3\n",
      "processing song:  476 - Foreigner - I Want To Know What Love Is.mp3\n",
      "processing song:  477 - Rick James - Super Freak.mp3\n",
      "processing song:  478 - Jefferson Airplane - White Rabbit.mp3\n",
      "processing song:  479 - Labelle - Lady Marmelade.mp3\n",
      "processing song:  48 - The Jimi Hendrix Experience - All Along The Watchtower.mp3\n",
      "processing song:  480 - Van Morrison - Into The Mystic.mp3\n",
      "processing song:  481 - David Bowie - Young Americans.mp3\n",
      "processing song:  482 - Alice Cooper - I'm Eighteen.mp3\n"
     ]
    },
    {
     "name": "stderr",
     "output_type": "stream",
     "text": [
      "Note: Illegal Audio-MPEG-Header 0x6c696e67 at offset 4421629.\n",
      "Note: Trying to resync...\n",
      "Note: Hit end of (available) data during resync.\n"
     ]
    },
    {
     "name": "stdout",
     "output_type": "stream",
     "text": [
      "processing song:  483 - The Cure - Just Like Heaven.mp3\n",
      "processing song:  484 - Joan Jett - I Love Rock 'n Roll.mp3\n",
      "processing song:  485 - Paul Simon - Graceland.mp3\n",
      "processing song:  486 - The Smiths - How Soon Is Now.mp3\n",
      "processing song:  487 - The Drifters - Under The Boardwalk.mp3\n",
      "processing song:  488 - Fleetwood Mac - Rhiannon.mp3\n",
      "processing song:  489 - Gloria Gaynor - I Will Survive.mp3\n",
      "processing song:  49 - The Eagles - Hotel California.mp3\n",
      "processing song:  490 - The Rolling Stones - Brown Sugar.mp3\n",
      "processing song:  491 - Dusty Springfield - You Don't Have To Say You Love Me.mp3\n",
      "processing song:  492 - Jackson Browne - Running On Empty.mp3\n",
      "processing song:  493 - The Crystals - Then He Kissed Me.mp3\n",
      "processing song:  494 - The Eagles - Desperado.mp3\n",
      "processing song:  495 - Smokey Robinson & the Miracles - Shop Around.mp3\n",
      "processing song:  496 - The Rolling Stones - Miss You.mp3\n",
      "processing song:  497 - Weezer - Buddy Holly.mp3\n",
      "processing song:  498 - Brook Benton - Rainy Night In Georgia.mp3\n",
      "processing song:  499 - Thin Lizzy - The Boys Are Back In Town.mp3\n",
      "processing song:  50 - Smokey Robinson & the Miracles - The Tracks Of My Tears.mp3\n",
      "processing song:  500 - Boston - More Than A Feeling.mp3\n"
     ]
    },
    {
     "name": "stderr",
     "output_type": "stream",
     "text": [
      "Note: Illegal Audio-MPEG-Header 0x00000000 at offset 9185730.\n",
      "Note: Trying to resync...\n",
      "Note: Hit end of (available) data during resync.\n"
     ]
    },
    {
     "name": "stdout",
     "output_type": "stream",
     "text": [
      "processing song:  51 - Grandmaster Flash And The Furious Five - The Message.mp3\n",
      "processing song:  52 - Prince - When Doves Cry.mp3\n",
      "processing song:  53 - Sex Pistols - Anarchy In The U.K.mp3\n",
      "processing song:  54 - Percy Sledge - When A Man Loves A Woman.mp3\n",
      "processing song:  55 - The Kingsmen - Louie Louie.mp3\n",
      "processing song:  56 - Little Richard - Long Tall Sally.mp3\n",
      "processing song:  57 - Procol Harum - A Whiter Shade Of Pale.mp3\n",
      "processing song:  58 - Michael Jackson - Billie Jean.mp3\n",
      "processing song:  59 - Bob Dylan - The Times They Are A-Changin'.mp3\n",
      "processing song:  60 - Al Green - Let's Stay Together.mp3\n",
      "processing song:  61 - Jerry Lee Lewis - Whole Lotta Shakinâ´ Goingâ´ On.mp3\n",
      "processing song:  62 - Bo Diddley - Bo Diddley.mp3\n",
      "processing song:  63 - Buffalo Springfield - For What It's Worth.mp3\n",
      "processing song:  64 - The Beatles - She Loves You.mp3\n",
      "processing song:  65 - Cream - Sunshine Of Your Love.mp3\n",
      "processing song:  66 - Bob Marley And The Wailers - Redemption Song.mp3\n",
      "processing song:  67 - Elvis Presley - Jailhouse Rock.mp3\n",
      "processing song:  68 - Bob Dylan - Tangled Up In Blue.mp3\n",
      "processing song:  69 - Roy Orbison - Crying.mp3\n",
      "processing song:  70 - Dionne Warwick - Walk On By.mp3\n",
      "processing song:  71 - The Beach Boys - California Girls.mp3\n",
      "processing song:  72 - James Brown - Papa's Got A Brand New Bag.mp3\n",
      "processing song:  73 - Eddie Cochran - Summertime Blues.mp3\n",
      "processing song:  74 - Stevie Wonder - Superstition.mp3\n",
      "processing song:  75 - Led Zeppelin - Whole Lotta Love.mp3\n",
      "processing song:  76 - The Beatles - Strawberry Fields Forever.mp3\n",
      "processing song:  77 - Elvis Presley - Mystery Train.mp3\n",
      "processing song:  78 - James Brown - I Got You (I Feel Good).mp3\n",
      "processing song:  79 - The Byrds - Mr Tambourine Man.mp3\n",
      "processing song:  80 - Marvin Gaye - I Heard It Through The Grapevine.mp3\n",
      "processing song:  81 - Fats Domino - Blueberry Hill.mp3\n",
      "processing song:  82 - The Kinks - You Really Got Me.mp3\n",
      "processing song:  83 - The Beatles - Norwegian Wood (This Bird Has Flown).mp3\n",
      "processing song:  84 - The Police - Every Breath You Take.mp3\n",
      "processing song:  85 - Patsy Cline - Crazy.mp3\n",
      "processing song:  86 - Bruce Springsteen - Thunder Road.mp3\n",
      "processing song:  87 - Johnny Cash - Ring Of Fire.mp3\n"
     ]
    },
    {
     "name": "stderr",
     "output_type": "stream",
     "text": [
      "Note: Illegal Audio-MPEG-Header 0x4c595249 at offset 3860917.\n",
      "Note: Trying to resync...\n",
      "Note: Hit end of (available) data during resync.\n"
     ]
    },
    {
     "name": "stdout",
     "output_type": "stream",
     "text": [
      "processing song:  88 - The Temptations - My Girl.mp3\n",
      "processing song:  89 - The Mamas & The Papas - California Dreamin'.mp3\n",
      "processing song:  90 - The Five Satins - In The Still Of The Night.mp3\n",
      "processing song:  91 - Elvis Presley - Suspicious Minds.mp3\n",
      "processing song:  92 - The Ramones - Blitzkrieg Bop.mp3\n",
      "processing song:  93 - U2 - I Still Haven't Found What I'm Looking For.mp3\n",
      "processing song:  94 - Little Richard - Good Golly Miss Molly.mp3\n",
      "processing song:  95 - Carl Perkins - Blue Suede Shoes.mp3\n",
      "processing song:  96 - Jerry Lee Lewis - Great Balls Of Fire.mp3\n",
      "processing song:  97 - Chuck Berry - Roll Over Beethoven.mp3\n",
      "processing song:  98 - Al Green - Love And Happiness.mp3\n",
      "processing song:  99 - Creedence Clearwater Revival - Fortunate Son.mp3\n"
     ]
    }
   ],
   "source": [
    "path = '../audio/RS500'\n",
    "all_rs500_triads, tracks = getTriadSequence(path)"
   ]
  },
  {
   "cell_type": "code",
   "execution_count": 5,
   "metadata": {},
   "outputs": [
    {
     "name": "stderr",
     "output_type": "stream",
     "text": [
      "/var/folders/k2/flh0b7xj6mv_tf6gpxphqm9m0000gn/T/ipykernel_44068/3147645603.py:1: VisibleDeprecationWarning: Creating an ndarray from ragged nested sequences (which is a list-or-tuple of lists-or-tuples-or ndarrays with different lengths or shapes) is deprecated. If you meant to do this, you must specify 'dtype=object' when creating the ndarray.\n",
      "  all_rs500_triads = np.array(all_rs500_triads)\n"
     ]
    }
   ],
   "source": [
    "all_rs500_triads = np.array(all_rs500_triads)"
   ]
  },
  {
   "cell_type": "code",
   "execution_count": 6,
   "metadata": {},
   "outputs": [],
   "source": [
    "np.save('../data/all_rs500_triads.npy', all_rs500_triads)"
   ]
  },
  {
   "cell_type": "code",
   "execution_count": 155,
   "metadata": {},
   "outputs": [
    {
     "name": "stdout",
     "output_type": "stream",
     "text": [
      "119\n"
     ]
    }
   ],
   "source": [
    "n = 0\n",
    "for song in tracks:\n",
    "    if song.find('The Beatles - Let It Be.mp3') > 0:\n",
    "        break\n",
    "    n += 1\n",
    "print(n)"
   ]
  },
  {
   "cell_type": "code",
   "execution_count": 173,
   "metadata": {},
   "outputs": [
    {
     "name": "stderr",
     "output_type": "stream",
     "text": [
      "WARNING:matplotlib.legend:No artists with labels found to put in legend.  Note that artists whose label start with an underscore are ignored when legend() is called with no argument.\n"
     ]
    },
    {
     "name": "stdout",
     "output_type": "stream",
     "text": [
      "20 - The Beatles - Let It Be.mp3\n"
     ]
    },
    {
     "data": {
      "text/plain": [
       "<matplotlib.legend.Legend at 0x2e9ec6680>"
      ]
     },
     "execution_count": 173,
     "metadata": {},
     "output_type": "execute_result"
    },
    {
     "data": {
      "image/png": "[encoded data removed]",
      "text/plain": [
       "<Figure size 1400x400 with 1 Axes>"
      ]
     },
     "metadata": {},
     "output_type": "display_data"
    }
   ],
   "source": [
    "# And plot the results\n",
    "id = 119\n",
    "data = all_rs500_triads[id]\n",
    "print(tracks[id])\n",
    "\n",
    "sns.set(font_scale=1.0)\n",
    "fig, ax = plt.subplots()\n",
    "plt.rcParams[\"figure.figsize\"] = (14,4)\n",
    "plt.rcParams['font.family'] = 'Andale Mono'\n",
    "fontsize=20\n",
    "#librosa.display.specshow(probs, x_axis='time', cmap='gray', ax=ax)\n",
    "times = librosa.times_like(data)\n",
    "ax.scatter(times, data, color='#ff9900', alpha=0.5, marker='o', s=1)\n",
    "ax.set(yticks=np.unique(data), yticklabels=[labels[i] for i in np.unique(data)])\n",
    "ax.legend()"
   ]
  },
  {
   "cell_type": "code",
   "execution_count": 8,
   "metadata": {},
   "outputs": [],
   "source": [
    "all_boomy_triads = np.load('../data/all_boomy_triads.npy', allow_pickle=True)"
   ]
  },
  {
   "cell_type": "code",
   "execution_count": 176,
   "metadata": {},
   "outputs": [
    {
     "name": "stderr",
     "output_type": "stream",
     "text": [
      "WARNING:matplotlib.legend:No artists with labels found to put in legend.  Note that artists whose label start with an underscore are ignored when legend() is called with no argument.\n"
     ]
    },
    {
     "data": {
      "text/plain": [
       "<matplotlib.legend.Legend at 0x2e3203d90>"
      ]
     },
     "execution_count": 176,
     "metadata": {},
     "output_type": "execute_result"
    },
    {
     "data": {
      "image/png": "[encoded data removed]",
      "text/plain": [
       "<Figure size 1400x400 with 1 Axes>"
      ]
     },
     "metadata": {},
     "output_type": "display_data"
    }
   ],
   "source": [
    "# And plot the results\n",
    "id = 10\n",
    "data = all_boomy_triads[id]\n",
    "\n",
    "\n",
    "sns.set(font_scale=1.0)\n",
    "fig, ax = plt.subplots()\n",
    "plt.rcParams[\"figure.figsize\"] = (14,4)\n",
    "plt.rcParams['font.family'] = 'Andale Mono'\n",
    "fontsize=20\n",
    "#librosa.display.specshow(probs, x_axis='time', cmap='gray', ax=ax)\n",
    "times = librosa.times_like(data)\n",
    "ax.scatter(times, data, color='#ff9900', alpha=0.5, marker='o', s=1)\n",
    "ax.set(yticks=np.unique(data), yticklabels=[labels[i] for i in np.unique(data)])\n",
    "ax.legend()"
   ]
  },
  {
   "cell_type": "code",
   "execution_count": 61,
   "metadata": {},
   "outputs": [],
   "source": [
    "all_chords = []\n",
    "for song in all_boomy_triads:\n",
    "    for c in song:\n",
    "        all_chords.append(c)"
   ]
  },
  {
   "cell_type": "code",
   "execution_count": 62,
   "metadata": {},
   "outputs": [],
   "source": [
    "frec1 = {}\n",
    "for c in all_chords:\n",
    "    chord = labels[c]\n",
    "    frec1[chord] = frec1.get(chord, 0)+1\n",
    "frec1 = sorted(frec1.items(), key = lambda kv: -kv[1])\n"
   ]
  },
  {
   "cell_type": "code",
   "execution_count": 63,
   "metadata": {},
   "outputs": [
    {
     "data": {
      "image/png": "[encoded data removed]",
      "text/plain": [
       "<Figure size 2000x900 with 1 Axes>"
      ]
     },
     "metadata": {},
     "output_type": "display_data"
    }
   ],
   "source": [
    "import seaborn as sns\n",
    "x1,y1 = zip(*frec1)\n",
    "x1 = np.array(x1)\n",
    "y1 = np.array(y1)\n",
    "sns.set(rc={'figure.figsize':(20,9)})\n",
    "sns.set(font_scale=0.8)\n",
    "sns.set(rc={'axes.facecolor':'#eee', 'figure.facecolor':'white'})\n",
    "\n",
    "#with sns.axes_style(\"whitegrid\"):\n",
    "b = sns.barplot(x=x1, y=y1, color='#ffaa00') #palette=\"rainbow\"\n",
    "b.axes.set_title(\"\",fontsize=22)\n",
    "b.set_xlabel(\"\",fontsize=16)\n",
    "b.set_xticklabels(b.get_xticklabels(), rotation=45, horizontalalignment='right')\n",
    "b.set_ylabel(\"Frequency\",fontsize=16)\n",
    "b.tick_params(labelsize=16)\n",
    "plt.show()"
   ]
  },
  {
   "cell_type": "code",
   "execution_count": 66,
   "metadata": {},
   "outputs": [],
   "source": [
    "RS500_triads = np.load('../data/all_rs500_triads.npy', allow_pickle=True)"
   ]
  },
  {
   "cell_type": "code",
   "execution_count": 67,
   "metadata": {},
   "outputs": [],
   "source": [
    "all_chords = []\n",
    "for song in RS500_triads:\n",
    "    for c in song:\n",
    "        all_chords.append(c)"
   ]
  },
  {
   "cell_type": "code",
   "execution_count": 68,
   "metadata": {},
   "outputs": [],
   "source": [
    "frec = {}\n",
    "for c in all_chords:\n",
    "    chord = labels[c]\n",
    "    frec[chord] = frec.get(chord, 0)+1\n",
    "frec = sorted(frec.items(), key = lambda kv: -kv[1])"
   ]
  },
  {
   "cell_type": "code",
   "execution_count": 69,
   "metadata": {},
   "outputs": [
    {
     "data": {
      "image/png": "[encoded data removed]",
      "text/plain": [
       "<Figure size 2000x900 with 1 Axes>"
      ]
     },
     "metadata": {},
     "output_type": "display_data"
    }
   ],
   "source": [
    "import seaborn as sns\n",
    "x,y = zip(*frec)\n",
    "x = np.array(x)\n",
    "y = np.array(y)\n",
    "\n",
    "sns.set(rc={'figure.figsize':(20,9)})\n",
    "sns.set(font_scale=0.8)\n",
    "sns.set(rc={'axes.facecolor':'#eee', 'figure.facecolor':'white'})\n",
    "\n",
    "#with sns.axes_style(\"whitegrid\"):\n",
    "\n",
    "b = sns.barplot(x=x, y=y, color='#00aaff') #palette=\"rainbow\"\n",
    "\n",
    "b.axes.set_title(\"\",fontsize=22)\n",
    "b.set_xlabel(\"\",fontsize=16)\n",
    "b.set_xticklabels(b.get_xticklabels(), rotation=45, horizontalalignment='right')\n",
    "b.set_ylabel(\"Frequency\",fontsize=16)\n",
    "b.tick_params(labelsize=16)\n",
    "plt.show()"
   ]
  },
  {
   "cell_type": "code",
   "execution_count": 140,
   "metadata": {},
   "outputs": [
    {
     "name": "stdout",
     "output_type": "stream",
     "text": [
      "   Triads    RS500  Boomy500\n",
      "0       A  4.13511   0.98260\n",
      "1       D  3.79387   1.18187\n",
      "2       C  3.64933   1.48575\n",
      "3       G  3.62236   0.82617\n",
      "4       E  3.41982   0.89941\n",
      "5       F  2.89389   0.98170\n",
      "6      Am  2.31848   1.07107\n",
      "7      Em  2.22122   0.93864\n",
      "8      A#  1.99712   0.97335\n",
      "9      Dm  1.85008   1.13118\n",
      "10     Gm  1.76130   0.78688\n",
      "11     D#  1.63404   0.72478\n",
      "12      B  1.61329   0.86786\n",
      "13     C#  1.54591   1.13948\n",
      "14     F#  1.42541   0.66676\n",
      "15     G#  1.31185   0.68271\n",
      "16    G#m  1.30215   0.72977\n",
      "17     Bm  1.27227   0.80212\n",
      "18     Cm  1.21574   1.01733\n",
      "19    F#m  1.14888   0.93892\n",
      "20     Fm  1.08011   1.08073\n",
      "21    A#m  1.02435   0.86588\n",
      "22    D#m  0.87726   1.02389\n",
      "23    C#m  0.83571   1.16765\n"
     ]
    }
   ],
   "source": [
    "import pandas as pd\n",
    "\n",
    "df = pd.DataFrame(data=frec)\n",
    "#df = df.T\n",
    "#print(df)\n",
    "\n",
    "df2 = pd.DataFrame(data=frec1)\n",
    "#df2 = df2.T\n",
    "#print(df2)\n",
    "\n",
    "frames = [df, df2]\n",
    "\n",
    "result = pd.merge(df, df2, on=0, how='outer')\n",
    "result.rename(columns = {0:'Triads', '1_x':'RS500', '1_y': 'Boomy500'}, inplace = True)\n",
    "\n",
    "#result['RS500'] = np.log10(result['RS500'])\n",
    "#result['Boomy500'] = np.log10(result['Boomy500'])\n",
    "\n",
    "result['RS500'] = np.divide(result['RS500'], 100000)\n",
    "result['Boomy500'] = np.divide(result['Boomy500'], 100000)\n",
    "\n",
    "print(result)"
   ]
  },
  {
   "cell_type": "code",
   "execution_count": 179,
   "metadata": {},
   "outputs": [
    {
     "data": {
      "image/png": "[encoded data removed]",
      "text/plain": [
       "<Figure size 1600x500 with 1 Axes>"
      ]
     },
     "metadata": {},
     "output_type": "display_data"
    }
   ],
   "source": [
    "dfm = result.melt('Triads', var_name='Collection', value_name='Quantity x10,000')\n",
    "\n",
    "#sns.set(rc={'figure.figsize':(10,5)})\n",
    "#sns.set(rc={'axes.facecolor':'#eee', 'figure.facecolor':'white'})\n",
    "sns.set(font_scale=1.8)\n",
    "sns.catplot(x=\"Triads\", y=\"Quantity x10,000\", hue=\"Collection\", data=dfm, kind=\"bar\", aspect=16/5, palette=sns.color_palette(['red', 'blue']), legend=False)\n",
    "\n",
    "#b.axes.set_title(\"\",fontsize=1)\n",
    "#b.set_xlabel(\"\",fontsize=1)\n",
    "#b.set_xticklabels(b.get_xticklabels(), rotation=45, horizontalalignment='right')\n",
    "#b.set_ylabel(\"Frequency\", fontsize=16)\n",
    "#b.tick_params(labelsize=1)\n",
    "#plt.ylim(4.8, 5.6)\n",
    "plt.show()"
   ]
  },
  {
   "cell_type": "code",
   "execution_count": null,
   "metadata": {},
   "outputs": [],
   "source": []
  }
 ],
 "metadata": {
  "kernelspec": {
   "display_name": "myenv",
   "language": "python",
   "name": "python3"
  },
  "language_info": {
   "codemirror_mode": {
    "name": "ipython",
    "version": 3
   },
   "file_extension": ".py",
   "mimetype": "text/x-python",
   "name": "python",
   "nbconvert_exporter": "python",
   "pygments_lexer": "ipython3",
   "version": "3.10.6"
  },
  "orig_nbformat": 4
 },
 "nbformat": 4,
 "nbformat_minor": 2
}
